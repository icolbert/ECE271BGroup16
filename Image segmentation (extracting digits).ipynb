{
 "cells": [
  {
   "cell_type": "code",
   "execution_count": 1,
   "metadata": {
    "collapsed": true
   },
   "outputs": [],
   "source": [
    "import cv2\n",
    "import numpy as np\n",
    "from matplotlib import pyplot as plt"
   ]
  },
  {
   "cell_type": "code",
   "execution_count": 2,
   "metadata": {
    "collapsed": true
   },
   "outputs": [],
   "source": [
    "def extract_segments(img, pad=10) :\n",
    "    '''function to extract individual chacters and digits from an image\n",
    "    input paramterts\n",
    "    img : input image (numpy array)\n",
    "    pad : padding window size around segments (int)\n",
    "    Returns\n",
    "    out : list of each segments '''\n",
    "    \n",
    "    import cv2\n",
    "    # thresholding the image\n",
    "    ret,thresh1 = cv2.threshold(img,127,255,cv2.THRESH_BINARY)\n",
    "    \n",
    "    # Negative tranform gray levels (background becomes black) \n",
    "    thresh1 = thresh1 - 1\n",
    "    thresh1[thresh1 == 254] = 0\n",
    "    thresh1[thresh1 == - 1 ] = 255\n",
    "    \n",
    "    # connected component labelling \n",
    "    output = cv2.connectedComponentsWithStats(thresh1, 4)\n",
    "    final = []\n",
    "    for i in range(1,output[0]):\n",
    "        cord = output[2][i]\n",
    "        num = np.pad( thresh1[ cord[1]:cord[1]+cord[3], cord[0]:cord[0]+cord[2] ], pad,'constant')\n",
    "        final.append(num)\n",
    "    \n",
    "    return final"
   ]
  },
  {
   "cell_type": "code",
   "execution_count": 3,
   "metadata": {},
   "outputs": [
    {
     "data": {
      "image/png": "[encoded data removed]",
      "text/plain": [
       "<matplotlib.figure.Figure at 0x110e28198>"
      ]
     },
     "metadata": {},
     "output_type": "display_data"
    }
   ],
   "source": [
    "# reading the image\n",
    "img = cv2.imread('/Users/josejoy/Desktop/ECE 271B Stat Learning /project/eq1.jpg',0)\n",
    "segments= extract_segments(img, 10)\n",
    "plt.imshow(segments[1])\n",
    "plt.show()"
   ]
  },
  {
   "cell_type": "code",
   "execution_count": null,
   "metadata": {
    "collapsed": true
   },
   "outputs": [],
   "source": []
  }
 ],
 "metadata": {
  "kernelspec": {
   "display_name": "Python 3",
   "language": "python",
   "name": "python3"
  },
  "language_info": {
   "codemirror_mode": {
    "name": "ipython",
    "version": 3
   },
   "file_extension": ".py",
   "mimetype": "text/x-python",
   "name": "python",
   "nbconvert_exporter": "python",
   "pygments_lexer": "ipython3",
   "version": "3.6.1"
  }
 },
 "nbformat": 4,
 "nbformat_minor": 2
}
