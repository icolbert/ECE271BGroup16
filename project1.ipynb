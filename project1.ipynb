{
 "cells": [
  {
   "cell_type": "code",
   "execution_count": 68,
   "metadata": {
    "collapsed": true
   },
   "outputs": [],
   "source": [
    "import cv2\n",
    "import numpy as np\n",
    "from matplotlib import pyplot as plt\n",
    "import itertools\n",
    "import pandas as pd\n",
    "import PIL"
   ]
  },
  {
   "cell_type": "markdown",
   "metadata": {},
   "source": [
    "## Image segmentation + Resampling"
   ]
  },
  {
   "cell_type": "code",
   "execution_count": 154,
   "metadata": {
    "scrolled": true
   },
   "outputs": [
    {
     "data": {
      "image/png": "[encoded data removed]",
      "text/plain": [
       "<matplotlib.figure.Figure at 0x1243c6cc0>"
      ]
     },
     "metadata": {},
     "output_type": "display_data"
    }
   ],
   "source": [
    "def rescale_segment( segment, size = [28,28] ):\n",
    "    '''function for resizing (scaling down) images\n",
    "    input parameters\n",
    "    seg : the segment of image (np.array)\n",
    "    size : out size (list of two integers)\n",
    "    output \n",
    "    scaled down image'''\n",
    "    if len(segment.shape) == 3 : # Non Binary Image\n",
    "        import cv2\n",
    "        # thresholding the image\n",
    "        ret,segment = cv2.threshold(segment,127,255,cv2.THRESH_BINARY)\n",
    "    m,n = segment.shape\n",
    "    idx1 = list(range(0,m, (m)//(size[0]) ) )\n",
    "    idx2 = list(range(0,n, n//(size[1]) )) \n",
    "    out = np.zeros(size)\n",
    "    for i in range(size[0]):\n",
    "        for j in range(size[1]):\n",
    "            out[i,j] = segment[ idx1[i] + (m%size[0])//2, idx2[j] + (n%size[0])//2]\n",
    "    kernel = np.ones( [2,2])\n",
    "    return out\n",
    "\n",
    "def extract_segments(img, pad=30, reshape = 0,size = [28,28]) :\n",
    "    '''function to extract individual chacters and digits from an image\n",
    "    input paramterts\n",
    "    img : input image (numpy array)\n",
    "    pad : padding window size around segments (int)\n",
    "    size : out size (list of two integers)\n",
    "    reshape : if 1 , output will be scaled down. if 0, no scaling down\n",
    "    Returns\n",
    "    out : list of each segments (starting from leftmost digit)'''\n",
    "    \n",
    "    import cv2\n",
    "    # thresholding the image\n",
    "    ret,thresh1 = cv2.threshold(img,127,255,cv2.THRESH_BINARY)\n",
    "    \n",
    "    # Negative tranform gray levels (background becomes black) \n",
    "    thresh1 = thresh1 - 1\n",
    "    thresh1[thresh1 == 254] = 0\n",
    "    thresh1[thresh1 == - 1 ] = 255\n",
    "    \n",
    "    # connected component labelling \n",
    "    output = cv2.connectedComponentsWithStats(thresh1, 4)\n",
    "    final = []\n",
    "    temp1 = np.sort( output[2][:,0] )\n",
    "    kernel = np.ones( [3,3])\n",
    "    for i in range(1,output[0]):\n",
    "        temp2 = output[2]\n",
    "        cord = np.squeeze( temp2[temp2[:,0] == temp1[i]] )\n",
    "        num = np.pad( thresh1[ cord[1]:cord[1]+cord[3], cord[0]:cord[0]+cord[2] ], pad,'constant')\n",
    "        num = cv2.dilate(num,kernel,iterations = 1)\n",
    "        if reshape == 1:\n",
    "            num = rescale_segment( num, size )\n",
    "        final.append(num)\n",
    "        \n",
    "    return final\n",
    "\n",
    "# reading the image,  0 would convert to gray image\n",
    "img = cv2.imread('/Users/josejoy/Desktop/ECE 271B Stat Learning /project/eq1.jpg',0)\n",
    "segments= extract_segments(img, 30, reshape = 1, size = [28,28] )\n",
    "plt.imshow(segments[0],cmap = 'gray')\n",
    "plt.show()\n"
   ]
  },
  {
   "cell_type": "markdown",
   "metadata": {},
   "source": [
    "## Morphological operations"
   ]
  },
  {
   "cell_type": "code",
   "execution_count": 22,
   "metadata": {},
   "outputs": [
    {
     "data": {
      "image/png": "[encoded data removed]",
      "text/plain": [
       "<matplotlib.figure.Figure at 0x11f94d748>"
      ]
     },
     "metadata": {},
     "output_type": "display_data"
    }
   ],
   "source": [
    "kernel = np.ones( [2,2])\n",
    "opening = cv2.morphologyEx(segments[0], cv2.MORPH_CLOSE, kernel )\n",
    "# dilation = cv2.dilate(resam,kernel,iterations = 1)\n",
    "plt.imshow(opening,cmap = 'gray')\n",
    "plt.show()  "
   ]
  },
  {
   "cell_type": "markdown",
   "metadata": {
    "collapsed": true
   },
   "source": [
    "## HASy dataset manipulation"
   ]
  },
  {
   "cell_type": "markdown",
   "metadata": {},
   "source": [
    "| Symbols | symbol_id |\n",
    "|:---------|-----------|:-\n",
    "| pi| 81|\n",
    "| < | 187|\n",
    "|>|188|\n",
    "|-|195|\n",
    "|+|196|\n",
    "|%|267|\n",
    "| division | 526 |\n",
    "| multiply | 513 |\n",
    "\n"
   ]
  },
  {
   "cell_type": "code",
   "execution_count": 115,
   "metadata": {},
   "outputs": [
    {
     "data": {
      "text/html": [
       "<div>\n",
       "<style>\n",
       "    .dataframe thead tr:only-child th {\n",
       "        text-align: right;\n",
       "    }\n",
       "\n",
       "    .dataframe thead th {\n",
       "        text-align: left;\n",
       "    }\n",
       "\n",
       "    .dataframe tbody tr th {\n",
       "        vertical-align: top;\n",
       "    }\n",
       "</style>\n",
       "<table border=\"1\" class=\"dataframe\">\n",
       "  <thead>\n",
       "    <tr style=\"text-align: right;\">\n",
       "      <th></th>\n",
       "      <th>path</th>\n",
       "      <th>symbol_id</th>\n",
       "      <th>latex</th>\n",
       "      <th>user_id</th>\n",
       "    </tr>\n",
       "  </thead>\n",
       "  <tbody>\n",
       "    <tr>\n",
       "      <th>0</th>\n",
       "      <td>../../hasy-data/v2-00016.png</td>\n",
       "      <td>31</td>\n",
       "      <td>A</td>\n",
       "      <td>8071</td>\n",
       "    </tr>\n",
       "    <tr>\n",
       "      <th>1</th>\n",
       "      <td>../../hasy-data/v2-00017.png</td>\n",
       "      <td>31</td>\n",
       "      <td>A</td>\n",
       "      <td>9505</td>\n",
       "    </tr>\n",
       "    <tr>\n",
       "      <th>2</th>\n",
       "      <td>../../hasy-data/v2-00018.png</td>\n",
       "      <td>31</td>\n",
       "      <td>A</td>\n",
       "      <td>16925</td>\n",
       "    </tr>\n",
       "    <tr>\n",
       "      <th>3</th>\n",
       "      <td>../../hasy-data/v2-00019.png</td>\n",
       "      <td>31</td>\n",
       "      <td>A</td>\n",
       "      <td>16925</td>\n",
       "    </tr>\n",
       "    <tr>\n",
       "      <th>4</th>\n",
       "      <td>../../hasy-data/v2-00020.png</td>\n",
       "      <td>31</td>\n",
       "      <td>A</td>\n",
       "      <td>16925</td>\n",
       "    </tr>\n",
       "  </tbody>\n",
       "</table>\n",
       "</div>"
      ],
      "text/plain": [
       "                           path  symbol_id latex  user_id\n",
       "0  ../../hasy-data/v2-00016.png         31     A     8071\n",
       "1  ../../hasy-data/v2-00017.png         31     A     9505\n",
       "2  ../../hasy-data/v2-00018.png         31     A    16925\n",
       "3  ../../hasy-data/v2-00019.png         31     A    16925\n",
       "4  ../../hasy-data/v2-00020.png         31     A    16925"
      ]
     },
     "execution_count": 115,
     "metadata": {},
     "output_type": "execute_result"
    }
   ],
   "source": [
    "path1 = '/Users/josejoy/Desktop/ECE 271B Stat Learning /project/HASYv2/'\n",
    "symbols = pd.read_csv(path1+'symbols.csv')\n",
    "path2 = '/Users/josejoy/Desktop/ECE 271B Stat Learning /project/HASYv2/classification-task/fold-1/'\n",
    "train1 = pd.read_csv(path2+'train.csv')\n",
    "train1.head()"
   ]
  },
  {
   "cell_type": "code",
   "execution_count": 153,
   "metadata": {},
   "outputs": [
    {
     "data": {
      "image/png": "[encoded data removed]",
      "text/plain": [
       "<matplotlib.figure.Figure at 0x125abc208>"
      ]
     },
     "metadata": {},
     "output_type": "display_data"
    }
   ],
   "source": [
    "fname1 = train1['path'][1]\n",
    "path3 = '/Users/josejoy/Desktop/ECE 271B Stat Learning /project/HASYv2/hasy-data/'\n",
    "temp = train1[train1['symbol_id']== 81 ]\n",
    "name1 = temp.iloc[11]['path']\n",
    "def get_Hasy_filename(name):\n",
    "    '''function to extract filenames for reading images from HASy dataset\n",
    "    Input : name, string of file path\n",
    "    Output : only file name'''\n",
    "    for i in range(1,len(name)):\n",
    "        if name[-i] == 'v':\n",
    "            return name[-i:]\n",
    "        \n",
    "img1 = cv2.imread(path3 + get_Hasy_filename(name1),0)\n",
    "img1 = rescale_segment( img1 )\n",
    "# img1 = PIL.Image.open(path3 + 'v2-25562.png')\n",
    "plt.imshow(img1)\n",
    "plt.show()"
   ]
  }
 ],
 "metadata": {
  "kernelspec": {
   "display_name": "Python 3",
   "language": "python",
   "name": "python3"
  },
  "language_info": {
   "codemirror_mode": {
    "name": "ipython",
    "version": 3
   },
   "file_extension": ".py",
   "mimetype": "text/x-python",
   "name": "python",
   "nbconvert_exporter": "python",
   "pygments_lexer": "ipython3",
   "version": "3.6.1"
  }
 },
 "nbformat": 4,
 "nbformat_minor": 2
}
