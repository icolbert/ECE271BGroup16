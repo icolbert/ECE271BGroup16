{
 "cells": [
  {
   "cell_type": "code",
   "execution_count": 1,
   "metadata": {},
   "outputs": [],
   "source": [
    "import cv2\n",
    "import numpy as np\n",
    "from matplotlib import pyplot as plt\n",
    "import itertools\n",
    "import pandas as pd\n",
    "from tqdm import trange \n",
    "from mnist import MNIST\n"
   ]
  },
  {
   "cell_type": "markdown",
   "metadata": {},
   "source": [
    "## Image segmentation + Resampling"
   ]
  },
  {
   "cell_type": "code",
   "execution_count": 2,
   "metadata": {
    "scrolled": true
   },
   "outputs": [],
   "source": [
    "def rescale_segment( segment, size = [28,28], pad = 0 ):\n",
    "    '''function for resizing (scaling down) images\n",
    "    input parameters\n",
    "    seg : the segment of image (np.array)\n",
    "    size : out size (list of two integers)\n",
    "    output \n",
    "    scaled down image'''\n",
    "    if len(segment.shape) == 3 : # Non Binary Image\n",
    "        import cv2\n",
    "        # thresholding the image\n",
    "        ret,segment = cv2.threshold(segment,127,255,cv2.THRESH_BINARY)\n",
    "    m,n = segment.shape\n",
    "    idx1 = list(range(0,m, (m)//(size[0]) ) )\n",
    "    idx2 = list(range(0,n, n//(size[1]) )) \n",
    "    out = np.zeros(size)\n",
    "    for i in range(size[0]):\n",
    "        for j in range(size[1]):\n",
    "            out[i,j] = segment[ idx1[i] + (m%size[0])//2, idx2[j] + (n%size[0])//2]\n",
    "#     if pad\n",
    "    return out\n",
    "\n",
    "def extract_segments(img, pad=30, reshape = 0,size = [28,28]) :\n",
    "    '''function to extract individual chacters and digits from an image\n",
    "    input paramterts\n",
    "    img : input image (numpy array)\n",
    "    pad : padding window size around segments (int)\n",
    "    size : out size (list of two integers)\n",
    "    reshape : if 1 , output will be scaled down. if 0, no scaling down\n",
    "    Returns\n",
    "    out : list of each segments (starting from leftmost digit)'''\n",
    "    \n",
    "    import cv2\n",
    "    # thresholding the image\n",
    "    ret,thresh1 = cv2.threshold(img,127,255,cv2.THRESH_BINARY)\n",
    "    print(thresh1)\n",
    "    # Negative tranform gray levels (background becomes black) \n",
    "    thresh1 = thresh1 - 1\n",
    "    thresh1[thresh1 == 254] = 0\n",
    "    thresh1[thresh1 == - 1 ] = 255\n",
    "    \n",
    "    # connected component labelling \n",
    "    output = cv2.connectedComponentsWithStats(thresh1, 4)\n",
    "    final = []\n",
    "    temp1 = np.sort( output[2][:,0] )\n",
    "    kernel = np.ones( [3,3])\n",
    "    for i in range(1,output[0]):\n",
    "        temp2 = output[2]\n",
    "        cord = np.squeeze( temp2[temp2[:,0] == temp1[i]] )\n",
    "        num = np.pad( thresh1[ cord[1]:cord[1]+cord[3], cord[0]:cord[0]+cord[2] ], pad,'constant')\n",
    "        num = cv2.dilate(num,kernel,iterations = 1)\n",
    "        if reshape == 1:\n",
    "            num = rescale_segment( num, size )\n",
    "        final.append(num)        \n",
    "    return final\n",
    "\n",
    "def collate_symbols(symbol_id,sym_filename,img_filename): \n",
    "    \"\"\"function strive to create dataset from HAsy by scanning given csv file for desired symbol(symbol_id)\n",
    "    parameters:\n",
    "    symbol_id:(type integer) id of symbol to be saved in csv\n",
    "    sym_filename:(type string) filename of csv file containing the symbols\n",
    "    img_filename:(type string) filename of csv file containing the matrix values of the images\"\"\"\n",
    "    import csv\n",
    "    latex_val = [train1[\"latex\"][train1[\"symbol_id\"]==symbol_id].iloc[0]]\n",
    "    #print(type(latex_val));\n",
    "    folder_loc = 'C:/Users/pmath/Documents/271B project/'\n",
    "    for i,file_loc in enumerate(train1[\"path\"][train1[\"symbol_id\"]==symbol_id]):\n",
    "        img1 = cv2.imread(folder_loc + file_loc,0);\n",
    "        img1 = (255 -img1)/255;\n",
    "        img1 = np.pad(img1,12,'constant',constant_values=(0,0));\n",
    "        kernel = np.ones((2,2),np.uint8);\n",
    "        img1 = cv2.dilate(img1,kernel,iterations = 1)\n",
    "        img1 = rescale_segment(img1,[28,28]);\n",
    "        row = img1.reshape(1,-1).tolist();\n",
    "        row = row[0]; \n",
    "        with open(img_filename,\"a\",newline='') as fp:\n",
    "            wr = csv.writer(fp, dialect='excel')\n",
    "            wr.writerow(row);\n",
    "        with open(sym_filename,\"a\",newline='') as fp:\n",
    "            wr = csv.writer(fp, dialect='excel')\n",
    "            wr.writerow(latex_val);\n",
    "            \n",
    "def collate_numbers(images,labels,num_img_filename,num_sym_filename):\n",
    "    \"\"\"function creates csv files (one for images and another for the labels provided).\n",
    "    parameters:\n",
    "    images:(type list)list of images loaded \"\"\"\n",
    "    import csv\n",
    "    train_images = np.array(images);\n",
    "    train_images = (train_images)/255;\n",
    "    train_labels = np.array(labels);\n",
    "        \n",
    "    num_imgs = train_images.shape[0];\n",
    "\n",
    "    permutation = list(np.random.permutation(num_imgs));\n",
    "    shuffled_x = train_images[permutation,:];\n",
    "    shuffled_t = train_labels[permutation];\n",
    "    \n",
    "    batch = zip(shuffled_x,shuffled_t);\n",
    "    for i,(x,t) in enumerate(batch):\n",
    "        if(i>20000):\n",
    "            break;\n",
    "        with open(num_img_filename,\"a\",newline='') as fp:\n",
    "            wr = csv.writer(fp, dialect='excel')\n",
    "            wr.writerow(x.tolist());   \n",
    "        with open(num_sym_filename,\"a\",newline='') as fp:\n",
    "            wr = csv.writer(fp, dialect='excel')\n",
    "            wr.writerow([t]);\n",
    "        "
   ]
  },
  {
   "cell_type": "markdown",
   "metadata": {},
   "source": [
    "## HASy dataset collection"
   ]
  },
  {
   "cell_type": "code",
   "execution_count": 3,
   "metadata": {},
   "outputs": [
    {
     "name": "stdout",
     "output_type": "stream",
     "text": [
      "                     path  symbol_id latex  user_id\n",
      "0  hasy-data/v2-00000.png         31     A       50\n",
      "1  hasy-data/v2-00001.png         31     A       10\n",
      "2  hasy-data/v2-00002.png         31     A       43\n",
      "3  hasy-data/v2-00003.png         31     A       43\n",
      "4  hasy-data/v2-00004.png         31     A     4435\n"
     ]
    }
   ],
   "source": [
    "path = './hasy-data-labels.csv';\n",
    "train1 = pd.read_csv(path);\n",
    "print(train1.head());\n",
    "sym_filename = \"./CSV folder/labels_symbols.csv\";\n",
    "img_filename = \"./CSV folder/imgs_symbols.csv\";\n",
    "symbols = [922,81,187,188,195,196,267,526,513];\n",
    "for i in symbols:\n",
    "    collate_symbols(i,sym_filename,img_filename);"
   ]
  },
  {
   "cell_type": "markdown",
   "metadata": {},
   "source": [
    "| Symbols | symbol_id |\n",
    "|:---------|-----------|:-\n",
    "| pi| 81|\n",
    "| < | 187|\n",
    "|>|188|\n",
    "|-|195|\n",
    "|+|196|\n",
    "|%|267|\n",
    "| division | 526 |\n",
    "| multiply | 513 |\n",
    "\n"
   ]
  },
  {
   "cell_type": "markdown",
   "metadata": {},
   "source": [
    "## MNIST  data collection"
   ]
  },
  {
   "cell_type": "code",
   "execution_count": 4,
   "metadata": {},
   "outputs": [],
   "source": [
    "mndata_train = MNIST('./training set');\n",
    "mndata_train.gz = True;\n",
    "images,labels = mndata_train.load_training();\n",
    "num_img_filename = \"./CSV folder/imgs_nums.csv\"\n",
    "num_sym_filename =  \"./CSV folder/labels_nums.csv\"\n",
    "collate_numbers(images,labels,num_img_filename,num_sym_filename)#,img_data_filename,num_data_filename);"
   ]
  },
  {
   "cell_type": "markdown",
   "metadata": {
    "collapsed": true
   },
   "source": [
    "## Hasy data visualization"
   ]
  },
  {
   "cell_type": "code",
   "execution_count": 5,
   "metadata": {},
   "outputs": [
    {
     "data": {
      "text/plain": [
       "(5218, 784)"
      ]
     },
     "execution_count": 5,
     "metadata": {},
     "output_type": "execute_result"
    }
   ],
   "source": [
    "data = np.array(pd.read_csv(img_filename))*255;\n",
    "data.shape"
   ]
  },
  {
   "cell_type": "code",
   "execution_count": 6,
   "metadata": {},
   "outputs": [
    {
     "name": "stdout",
     "output_type": "stream",
     "text": [
      "18\n"
     ]
    },
    {
     "data": {
      "image/png": "[encoded data removed]",
      "text/plain": [
       "<matplotlib.figure.Figure at 0x19be388b668>"
      ]
     },
     "metadata": {},
     "output_type": "display_data"
    }
   ],
   "source": [
    "loc = np.random.randint(200);\n",
    "v1 = data[-1,:];\n",
    "print(loc);\n",
    "plt.imshow(v1.reshape(28,28),cmap='gray')\n",
    "plt.show();"
   ]
  },
  {
   "cell_type": "markdown",
   "metadata": {},
   "source": [
    "## MNIST data visualization"
   ]
  },
  {
   "cell_type": "code",
   "execution_count": 7,
   "metadata": {},
   "outputs": [
    {
     "data": {
      "text/plain": [
       "(20000, 784)"
      ]
     },
     "execution_count": 7,
     "metadata": {},
     "output_type": "execute_result"
    }
   ],
   "source": [
    "data = np.array(pd.read_csv(num_img_filename))*255;\n",
    "data.shape"
   ]
  },
  {
   "cell_type": "code",
   "execution_count": 8,
   "metadata": {},
   "outputs": [
    {
     "data": {
      "image/png": "[encoded data removed]",
      "text/plain": [
       "<matplotlib.figure.Figure at 0x19b800e2b38>"
      ]
     },
     "metadata": {},
     "output_type": "display_data"
    }
   ],
   "source": [
    "v1 = data[2,:];\n",
    "plt.imshow(v1.reshape(28,28),cmap='gray')\n",
    "plt.show();"
   ]
  },
  {
   "cell_type": "markdown",
   "metadata": {},
   "source": [
    "## Combining CSV files"
   ]
  },
  {
   "cell_type": "code",
   "execution_count": 9,
   "metadata": {},
   "outputs": [
    {
     "name": "stdout",
     "output_type": "stream",
     "text": [
      "(20000, 784)\n",
      "(5218, 784)\n",
      "(25218, 784)\n",
      "(25218, 1)\n"
     ]
    }
   ],
   "source": [
    "data_nums = np.array(pd.read_csv(num_img_filename));\n",
    "data_syms = np.array(pd.read_csv(img_filename));\n",
    "label_nums = np.array(pd.read_csv(num_sym_filename));\n",
    "label_syms = np.array(pd.read_csv(sym_filename));\n",
    "print(data_nums.shape);\n",
    "print(data_syms.shape);\n",
    "data = np.vstack((data_nums,data_syms));\n",
    "labels = np.vstack((label_nums,label_syms));\n",
    "print(data.shape);\n",
    "print(labels.shape)\n",
    "num_ex = data.shape[0];\n",
    "permutation = list(np.random.permutation(num_ex));\n",
    "final_data = data[permutation,:];\n",
    "final_labels = labels[permutation,:];"
   ]
  },
  {
   "cell_type": "code",
   "execution_count": 10,
   "metadata": {},
   "outputs": [],
   "source": [
    "import csv\n",
    "img_filename = \"./CSV folder/final_data.csv\";\n",
    "label_filename = \"./CSV folder/final_label.csv\";\n",
    "batch = zip(final_data,final_labels);\n",
    "for idx,(x,t) in enumerate(batch):\n",
    "    with open(img_filename,\"a\",newline='') as fp:\n",
    "        wr = csv.writer(fp, dialect='excel')\n",
    "        wr.writerow(x.tolist());\n",
    "    with open(label_filename,\"a\",newline='') as fp:\n",
    "        wr = csv.writer(fp, dialect='excel')\n",
    "        wr.writerow(t.tolist());"
   ]
  },
  {
   "cell_type": "code",
   "execution_count": null,
   "metadata": {},
   "outputs": [],
   "source": []
  }
 ],
 "metadata": {
  "kernelspec": {
   "display_name": "Python 3",
   "language": "python",
   "name": "python3"
  },
  "language_info": {
   "codemirror_mode": {
    "name": "ipython",
    "version": 3
   },
   "file_extension": ".py",
   "mimetype": "text/x-python",
   "name": "python",
   "nbconvert_exporter": "python",
   "pygments_lexer": "ipython3",
   "version": "3.6.4"
  }
 },
 "nbformat": 4,
 "nbformat_minor": 2
}
