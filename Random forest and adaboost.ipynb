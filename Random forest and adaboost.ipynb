{
 "cells": [
  {
   "cell_type": "code",
   "execution_count": 6,
   "metadata": {
    "collapsed": true
   },
   "outputs": [],
   "source": [
    "import numpy as np\n",
    "from tqdm import tqdm \n",
    "import matplotlib.pyplot as plt\n",
    "from sklearn.ensemble import RandomForestClassifier, AdaBoostClassifier\n",
    "import pandas as pd"
   ]
  },
  {
   "cell_type": "code",
   "execution_count": 2,
   "metadata": {},
   "outputs": [],
   "source": [
    "path = '/Users/josejoy/Desktop/ECE 271B Stat Learning /project/CSV folder/'\n",
    "class_labels = {str(x):x for x in range(10)}\n",
    "class_labels.update({'\\\\pi':10, '\\\\times':11, '\\\\%':12, '-':13, '/':14, '<':15, '>':16, '\\\\div':17, '+':18})\n",
    "\n",
    "def load_data(class_labels, train=0.85, val=0.15):\n",
    "    data = pd.read_csv(path + 'final_data.csv', header=None)\n",
    "    \n",
    "#     data[data>0]=1\n",
    "    \n",
    "    labels = pd.read_csv(path + 'final_label.csv', header=None, names=['labels'])\n",
    "    labels['labels'] = labels['labels'].map(class_labels)\n",
    "    assert data.shape[0] == labels.shape[0]\n",
    "    assert isinstance(train, float)\n",
    "    isinstance(val, float), \"train and val must be of type float, not {0} and {1}\".format(type(train), type(val))\n",
    "    assert ((train + val) == 1.0), \"train + val must equal 1.0\"\n",
    "\n",
    "    one_hot = pd.get_dummies(labels['labels'])\n",
    "    sidx = int(data.shape[0]*train)\n",
    "    _data  = {'train': data.iloc[:sidx].as_matrix(),   'val': data.iloc[sidx+1:].as_matrix()}\n",
    "    _labels= {'train': one_hot.iloc[:sidx,:].as_matrix(), 'val': one_hot.iloc[sidx+1:,:].as_matrix()}\n",
    "\n",
    "    assert (_data['train'].shape[0] == _labels['train'].shape[0])\n",
    "    assert (_data['val'].shape[0] == _labels['val'].shape[0])\n",
    "    return _data, _labels\n",
    "\n",
    "data, labels = load_data(class_labels)\n"
   ]
  },
  {
   "cell_type": "code",
   "execution_count": 3,
   "metadata": {
    "scrolled": false
   },
   "outputs": [
    {
     "data": {
      "image/png": "[encoded data removed]",
      "text/plain": [
       "<matplotlib.figure.Figure at 0x1a121f4eb8>"
      ]
     },
     "metadata": {},
     "output_type": "display_data"
    }
   ],
   "source": [
    "plt.imshow( data['train'][1,:].reshape([28,28]))\n",
    "plt.show()"
   ]
  },
  {
   "cell_type": "code",
   "execution_count": null,
   "metadata": {},
   "outputs": [],
   "source": [
    "%%time\n",
    "train_label = np.argmax(labels['train'], axis = 1)\n",
    "RFmodel = RandomForestClassifier(max_depth=4, n_estimators=5000, class_weight='balanced' )\n",
    "RFmodel.fit(data['train'],train_label)\n",
    "pred = RFmodel.predict(data['val'])\n",
    "test_label = np.argmax(labels['val'], axis = 1)\n",
    "error1 = np.sum([pred!=test_label])*100/test_label.shape[0]\n",
    "print( error1 )\n",
    "plt.imshow( RFmodel.feature_importances_.reshape([28,28]) ,cmap = 'gray' )\n",
    "plt.show()\n"
   ]
  },
  {
   "cell_type": "code",
   "execution_count": 158,
   "metadata": {
    "scrolled": true
   },
   "outputs": [
    {
     "name": "stdout",
     "output_type": "stream",
     "text": [
      "Stage1 error =  0.0\n"
     ]
    },
    {
     "data": {
      "image/png": "[encoded data removed]",
      "text/plain": [
       "<matplotlib.figure.Figure at 0x1a1adc91d0>"
      ]
     },
     "metadata": {},
     "output_type": "display_data"
    }
   ],
   "source": [
    "# BInary classifer for Digits - Character classification\n",
    "bin_label = np.argmax(labels['train'], axis = 1)\n",
    "bin_label[bin_label<10] = 1\n",
    "bin_label[bin_label>=10] = -1\n",
    "stage1 = AdaBoostClassifier( n_estimators=250)\n",
    "stage1.fit(data['train'],bin_label )\n",
    "pred1 = stage1.predict(data['val'])\n",
    "test = np.argmax(labels['val'], axis = 1)\n",
    "test[test<10] = 1\n",
    "test[test>=10] = -1\n",
    "print( 'Stage1 error = ',sum( pred1!=test )*100/ test.shape[0])\n",
    "plt.imshow( stage1.feature_importances_.reshape([28,28]) ,cmap = 'gray' )\n",
    "plt.show()"
   ]
  },
  {
   "cell_type": "code",
   "execution_count": 211,
   "metadata": {
    "scrolled": false
   },
   "outputs": [
    {
     "name": "stdout",
     "output_type": "stream",
     "text": [
      "Stage2 error =  23.9820200952\n"
     ]
    }
   ],
   "source": [
    "label1 = np.argmax(labels['train'],axis=1)\n",
    "label1[label1>=10] = -1\n",
    "label2 = np.argmax(labels['train'],axis=1)\n",
    "label2[label2<10] = -1\n",
    "digits = AdaBoostClassifier( n_estimators=200, learning_rate=0.1) # contains binary classifiers (one vs all) for each digit\n",
    "chars =  AdaBoostClassifier( n_estimators=200, learning_rate=0.1) # contains binary classifiers (one vs all) for each digit\n",
    "digits.fit(data['train'][label1!=-1],label1[label1!=-1])\n",
    "chars.fit(data['train'][label2!=-1],label2[label2!=-1])\n",
    "\n",
    "pred1 = stage1.predict(data['val'])\n",
    "pred_d = digits.predict(data['val'])\n",
    "pred_c = chars.predict(data['val'])\n",
    "test_full = np.argmax(labels['val'],axis=1)\n",
    "pred_d[pred1==-1] = -1\n",
    "pred_c[pred1==1] = -1\n",
    "pred = np.column_stack((pred_d,pred_c))\n",
    "predx = np.max(pred,axis= 1)\n",
    "print( 'Stage2 error = ',sum( predx!=test_full )*100/ test_full.shape[0])\n"
   ]
  },
  {
   "cell_type": "code",
   "execution_count": 215,
   "metadata": {
    "scrolled": true
   },
   "outputs": [
    {
     "data": {
      "image/png": "[encoded data removed]",
      "text/plain": [
       "<matplotlib.figure.Figure at 0x1a1b87deb8>"
      ]
     },
     "metadata": {},
     "output_type": "display_data"
    }
   ],
   "source": [
    "plt.imshow( chars.feature_importances_.reshape([28,28]) ,cmap = 'gray' )\n",
    "plt.show()"
   ]
  }
 ],
 "metadata": {
  "kernelspec": {
   "display_name": "Python 3",
   "language": "python",
   "name": "python3"
  },
  "language_info": {
   "codemirror_mode": {
    "name": "ipython",
    "version": 3
   },
   "file_extension": ".py",
   "mimetype": "text/x-python",
   "name": "python",
   "nbconvert_exporter": "python",
   "pygments_lexer": "ipython3",
   "version": "3.6.4"
  }
 },
 "nbformat": 4,
 "nbformat_minor": 2
}
